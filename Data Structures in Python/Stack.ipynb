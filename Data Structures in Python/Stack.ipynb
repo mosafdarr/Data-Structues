{
 "cells": [
  {
   "cell_type": "code",
   "execution_count": null,
   "id": "e6abbe84-5398-4b52-b0ef-3c53bf835641",
   "metadata": {},
   "outputs": [],
   "source": [
    "class Stack:\n",
    "    \n",
    "    #initializing an array (list) along with top and last pointer \n",
    "    def __init__(self):\n",
    "        self.__top = None\n",
    "        self.__last = 0\n",
    "        self.__list : list = [] \n",
    "        \n",
    "    # creating the check method to check if stack is empty or not\n",
    "    def isEmpty(self):\n",
    "        return self.__last == 0\n",
    "    \n",
    "    # seting the limit of stack to 10 by creating a full check method to check if stack is full or not\n",
    "    def isFull(self):\n",
    "        return self.__last == 10 \n",
    "    \n",
    "    # method to push in the stack\n",
    "    def push(self, value):\n",
    "        assert type(value) == int, \"Value must be of int type.\" # only specified to integer values \n",
    "        assert not self.isFull(), \"Stack is full\"\n",
    "        self.__list.append(value) #appending value at the top\n",
    "        self.__top = value #altering top to newly pushed value\n",
    "        self.__last += 1 # increasing the size of stack by 1\n",
    "        return True\n",
    "    \n",
    "    # method to push in the stack\n",
    "    def pop(self):\n",
    "        assert not self.isEmpty(), \"Stack is Empty!\" #handling error poping form empty stack\n",
    "        self.__last -= 1 # decreasing the size of stack by 1 \n",
    "        self.__top = self.__list.pop(-1) # poping value\n",
    "        return True\n",
    "        i\n",
    "    \n",
    "    #checking the top of stack\n",
    "    def top(self):\n",
    "        assert not self.isEmpty(), \"How am i supposed to check top from an empty stack\"\n",
    "        return self.__top\n",
    "    \n",
    "    #to check if an \"x\" value exist in stack or not\n",
    "    def contains(self, value):\n",
    "        assert not self.isEmpty(), \"Stack is Empty\"\n",
    "        return value in self.__list \n",
    "    \n",
    "    #displaying stack\n",
    "    def display(self):\n",
    "        for v in range(len(self.__list)):\n",
    "            print(v)\n",
    "            \n",
    "    # size check   \n",
    "    def last(self):\n",
    "        return self.__last "
   ]
  }
 ],
 "metadata": {
  "kernelspec": {
   "display_name": "Python 3 (ipykernel)",
   "language": "python",
   "name": "python3"
  },
  "language_info": {
   "codemirror_mode": {
    "name": "ipython",
    "version": 3
   },
   "file_extension": ".py",
   "mimetype": "text/x-python",
   "name": "python",
   "nbconvert_exporter": "python",
   "pygments_lexer": "ipython3",
   "version": "3.9.7"
  }
 },
 "nbformat": 4,
 "nbformat_minor": 5
}
