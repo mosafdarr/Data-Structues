{
 "cells": [
  {
   "cell_type": "code",
   "execution_count": 2,
   "id": "56cb72b5-bc2f-4e78-a325-f6236d4c4a2d",
   "metadata": {},
   "outputs": [],
   "source": [
    "class Node:\n",
    "    def __init__(self, data): \n",
    "        self.data = data\n",
    "        self.next:Node = None\n",
    "        self.prev:Node = None"
   ]
  },
  {
   "cell_type": "code",
   "execution_count": 11,
   "id": "b598deae-d9f2-4155-a82e-14ccbad4e8e3",
   "metadata": {},
   "outputs": [],
   "source": [
    "class DoubleList:\n",
    "    def __init__(self, data):\n",
    "        self.__node = Node(data)\n",
    "        self.__first = self.__node\n",
    "        self.__last = self.__first\n",
    "    \n",
    "    def insertLast(self, data):\n",
    "        assert type(data) == int, \"Must Enter integer value\"\n",
    "        new = Node(data)\n",
    "        self.__last.next = new\n",
    "        new.prev = self.__last\n",
    "        self.__last = new\n",
    "        return\n",
    "        \n",
    "    def display(self):\n",
    "        temp = self.__first\n",
    "        while temp: \n",
    "            print(temp.data, end=\" \")\n",
    "            temp = temp.next\n",
    "        return"
   ]
  },
  {
   "cell_type": "code",
   "execution_count": 15,
   "id": "37937b5f-a0b4-4dbe-9fab-9b1c3eaf3b75",
   "metadata": {},
   "outputs": [],
   "source": [
    "li = DoubleList(10)"
   ]
  },
  {
   "cell_type": "code",
   "execution_count": 17,
   "id": "d2af4e5d-c414-4601-b5ae-82cf6f9d50c0",
   "metadata": {},
   "outputs": [],
   "source": [
    "li.insertLast(5)"
   ]
  },
  {
   "cell_type": "code",
   "execution_count": 18,
   "id": "f4e9ab25-806e-41c1-8334-61b5e1abf882",
   "metadata": {},
   "outputs": [
    {
     "name": "stdout",
     "output_type": "stream",
     "text": [
      "10 5 "
     ]
    }
   ],
   "source": [
    "li.display()"
   ]
  },
  {
   "cell_type": "code",
   "execution_count": 20,
   "id": "e3a85d4c-214b-4482-863d-a1f27c7d956f",
   "metadata": {},
   "outputs": [],
   "source": [
    "import numpy as np"
   ]
  },
  {
   "cell_type": "code",
   "execution_count": 25,
   "id": "fbdce71d-4203-4c47-9671-0b6b139619b8",
   "metadata": {},
   "outputs": [],
   "source": [
    "li1 = [1,2,3,4]\n",
    "li2 = [4,5,6,7]"
   ]
  },
  {
   "cell_type": "code",
   "execution_count": 27,
   "id": "d185836d-c6f6-40dc-899a-e2d6b751f8f3",
   "metadata": {},
   "outputs": [
    {
     "ename": "AttributeError",
     "evalue": "'list' object has no attribute 'zip'",
     "output_type": "error",
     "traceback": [
      "\u001b[1;31m---------------------------------------------------------------------------\u001b[0m",
      "\u001b[1;31mAttributeError\u001b[0m                            Traceback (most recent call last)",
      "\u001b[1;32mC:\\Users\\SAFDAR~1\\AppData\\Local\\Temp/ipykernel_4840/972749018.py\u001b[0m in \u001b[0;36m<module>\u001b[1;34m\u001b[0m\n\u001b[1;32m----> 1\u001b[1;33m \u001b[0mli1\u001b[0m\u001b[1;33m.\u001b[0m\u001b[0mzip\u001b[0m\u001b[1;33m(\u001b[0m\u001b[0mli2\u001b[0m\u001b[1;33m)\u001b[0m\u001b[1;33m\u001b[0m\u001b[1;33m\u001b[0m\u001b[0m\n\u001b[0m",
      "\u001b[1;31mAttributeError\u001b[0m: 'list' object has no attribute 'zip'"
     ]
    }
   ],
   "source": [
    "li1.zip(li2)"
   ]
  },
  {
   "cell_type": "code",
   "execution_count": 26,
   "id": "3a75c669-d7ac-41f7-a832-c516527298ea",
   "metadata": {},
   "outputs": [],
   "source": [
    "arr1 = np.array([1,2,3,4])\n",
    "arr2 = np.array([4,5,6,7])"
   ]
  },
  {
   "cell_type": "code",
   "execution_count": 24,
   "id": "fe583c24-1dd9-4b3d-8ac8-afbd42733626",
   "metadata": {},
   "outputs": [
    {
     "ename": "AttributeError",
     "evalue": "'numpy.ndarray' object has no attribute 'zip'",
     "output_type": "error",
     "traceback": [
      "\u001b[1;31m---------------------------------------------------------------------------\u001b[0m",
      "\u001b[1;31mAttributeError\u001b[0m                            Traceback (most recent call last)",
      "\u001b[1;32mC:\\Users\\SAFDAR~1\\AppData\\Local\\Temp/ipykernel_4840/787077598.py\u001b[0m in \u001b[0;36m<module>\u001b[1;34m\u001b[0m\n\u001b[1;32m----> 1\u001b[1;33m \u001b[0marr1\u001b[0m\u001b[1;33m.\u001b[0m\u001b[0mzip\u001b[0m\u001b[1;33m(\u001b[0m\u001b[0marr2\u001b[0m\u001b[1;33m)\u001b[0m\u001b[1;33m\u001b[0m\u001b[1;33m\u001b[0m\u001b[0m\n\u001b[0m",
      "\u001b[1;31mAttributeError\u001b[0m: 'numpy.ndarray' object has no attribute 'zip'"
     ]
    }
   ],
   "source": []
  },
  {
   "cell_type": "code",
   "execution_count": null,
   "id": "f4313be0-1c31-4f2c-a9a9-bec0b7fbef6d",
   "metadata": {},
   "outputs": [],
   "source": []
  }
 ],
 "metadata": {
  "kernelspec": {
   "display_name": "Python 3 (ipykernel)",
   "language": "python",
   "name": "python3"
  },
  "language_info": {
   "codemirror_mode": {
    "name": "ipython",
    "version": 3
   },
   "file_extension": ".py",
   "mimetype": "text/x-python",
   "name": "python",
   "nbconvert_exporter": "python",
   "pygments_lexer": "ipython3",
   "version": "3.9.7"
  }
 },
 "nbformat": 4,
 "nbformat_minor": 5
}
